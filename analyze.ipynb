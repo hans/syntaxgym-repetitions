{
 "cells": [
  {
   "cell_type": "code",
   "execution_count": 144,
   "id": "7bee86f2-615a-471f-b5f1-88a59bfb0e7b",
   "metadata": {},
   "outputs": [],
   "source": [
    "import matplotlib.pyplot as plt\n",
    "import pandas as pd\n",
    "import seaborn as sns"
   ]
  },
  {
   "cell_type": "code",
   "execution_count": 145,
   "id": "2e1d0fe3-f941-40bd-8516-3993d8365b49",
   "metadata": {},
   "outputs": [],
   "source": [
    "suites = [\"number_src\"]"
   ]
  },
  {
   "cell_type": "markdown",
   "id": "799003d6-1fb6-49a7-a5bb-313d5c630a1c",
   "metadata": {},
   "source": [
    "## Prediction results"
   ]
  },
  {
   "cell_type": "code",
   "execution_count": 146,
   "id": "0444e056-8b0d-4dac-9a04-1ac6c275cff0",
   "metadata": {},
   "outputs": [
    {
     "data": {
      "text/html": [
       "<div>\n",
       "<style scoped>\n",
       "    .dataframe tbody tr th:only-of-type {\n",
       "        vertical-align: middle;\n",
       "    }\n",
       "\n",
       "    .dataframe tbody tr th {\n",
       "        vertical-align: top;\n",
       "    }\n",
       "\n",
       "    .dataframe thead th {\n",
       "        text-align: right;\n",
       "    }\n",
       "</style>\n",
       "<table border=\"1\" class=\"dataframe\">\n",
       "  <thead>\n",
       "    <tr style=\"text-align: right;\">\n",
       "      <th></th>\n",
       "      <th></th>\n",
       "      <th>item_number</th>\n",
       "      <th>prediction_0</th>\n",
       "      <th>used_item_numbers</th>\n",
       "      <th>used_conditions</th>\n",
       "      <th>prefix_length</th>\n",
       "      <th>first_item</th>\n",
       "    </tr>\n",
       "    <tr>\n",
       "      <th>suite</th>\n",
       "      <th></th>\n",
       "      <th></th>\n",
       "      <th></th>\n",
       "      <th></th>\n",
       "      <th></th>\n",
       "      <th></th>\n",
       "      <th></th>\n",
       "    </tr>\n",
       "  </thead>\n",
       "  <tbody>\n",
       "    <tr>\n",
       "      <th rowspan=\"11\" valign=\"top\">number_src</th>\n",
       "      <th>0</th>\n",
       "      <td>1</td>\n",
       "      <td>True</td>\n",
       "      <td>1</td>\n",
       "      <td>NaN</td>\n",
       "      <td>0</td>\n",
       "      <td>1</td>\n",
       "    </tr>\n",
       "    <tr>\n",
       "      <th>1</th>\n",
       "      <td>2</td>\n",
       "      <td>True</td>\n",
       "      <td>2</td>\n",
       "      <td>NaN</td>\n",
       "      <td>0</td>\n",
       "      <td>2</td>\n",
       "    </tr>\n",
       "    <tr>\n",
       "      <th>2</th>\n",
       "      <td>3</td>\n",
       "      <td>False</td>\n",
       "      <td>3</td>\n",
       "      <td>NaN</td>\n",
       "      <td>0</td>\n",
       "      <td>3</td>\n",
       "    </tr>\n",
       "    <tr>\n",
       "      <th>3</th>\n",
       "      <td>4</td>\n",
       "      <td>True</td>\n",
       "      <td>4</td>\n",
       "      <td>NaN</td>\n",
       "      <td>0</td>\n",
       "      <td>4</td>\n",
       "    </tr>\n",
       "    <tr>\n",
       "      <th>4</th>\n",
       "      <td>5</td>\n",
       "      <td>False</td>\n",
       "      <td>5</td>\n",
       "      <td>NaN</td>\n",
       "      <td>0</td>\n",
       "      <td>5</td>\n",
       "    </tr>\n",
       "    <tr>\n",
       "      <th>...</th>\n",
       "      <td>...</td>\n",
       "      <td>...</td>\n",
       "      <td>...</td>\n",
       "      <td>...</td>\n",
       "      <td>...</td>\n",
       "      <td>...</td>\n",
       "    </tr>\n",
       "    <tr>\n",
       "      <th>5009</th>\n",
       "      <td>8580</td>\n",
       "      <td>True</td>\n",
       "      <td>3 8 6 15 9 11</td>\n",
       "      <td>match_plural match_plural match_sing match_si...</td>\n",
       "      <td>41</td>\n",
       "      <td>3</td>\n",
       "    </tr>\n",
       "    <tr>\n",
       "      <th>5010</th>\n",
       "      <td>8581</td>\n",
       "      <td>False</td>\n",
       "      <td>3 8 6 15 9 12</td>\n",
       "      <td>match_plural match_plural match_sing match_si...</td>\n",
       "      <td>41</td>\n",
       "      <td>3</td>\n",
       "    </tr>\n",
       "    <tr>\n",
       "      <th>5011</th>\n",
       "      <td>8582</td>\n",
       "      <td>False</td>\n",
       "      <td>3 8 6 15 9 13</td>\n",
       "      <td>match_plural match_plural match_sing match_si...</td>\n",
       "      <td>41</td>\n",
       "      <td>3</td>\n",
       "    </tr>\n",
       "    <tr>\n",
       "      <th>5012</th>\n",
       "      <td>8583</td>\n",
       "      <td>False</td>\n",
       "      <td>3 8 6 15 9 14</td>\n",
       "      <td>match_plural match_plural match_sing match_si...</td>\n",
       "      <td>42</td>\n",
       "      <td>3</td>\n",
       "    </tr>\n",
       "    <tr>\n",
       "      <th>5013</th>\n",
       "      <td>8584</td>\n",
       "      <td>False</td>\n",
       "      <td>3 8 6 15 9 19</td>\n",
       "      <td>match_plural match_plural match_sing match_si...</td>\n",
       "      <td>41</td>\n",
       "      <td>3</td>\n",
       "    </tr>\n",
       "  </tbody>\n",
       "</table>\n",
       "<p>5014 rows × 6 columns</p>\n",
       "</div>"
      ],
      "text/plain": [
       "                 item_number  prediction_0 used_item_numbers  \\\n",
       "suite                                                          \n",
       "number_src 0               1          True                 1   \n",
       "           1               2          True                 2   \n",
       "           2               3         False                 3   \n",
       "           3               4          True                 4   \n",
       "           4               5         False                 5   \n",
       "...                      ...           ...               ...   \n",
       "           5009         8580          True     3 8 6 15 9 11   \n",
       "           5010         8581         False     3 8 6 15 9 12   \n",
       "           5011         8582         False     3 8 6 15 9 13   \n",
       "           5012         8583         False     3 8 6 15 9 14   \n",
       "           5013         8584         False     3 8 6 15 9 19   \n",
       "\n",
       "                                                   used_conditions  \\\n",
       "suite                                                                \n",
       "number_src 0                                                   NaN   \n",
       "           1                                                   NaN   \n",
       "           2                                                   NaN   \n",
       "           3                                                   NaN   \n",
       "           4                                                   NaN   \n",
       "...                                                            ...   \n",
       "           5009   match_plural match_plural match_sing match_si...   \n",
       "           5010   match_plural match_plural match_sing match_si...   \n",
       "           5011   match_plural match_plural match_sing match_si...   \n",
       "           5012   match_plural match_plural match_sing match_si...   \n",
       "           5013   match_plural match_plural match_sing match_si...   \n",
       "\n",
       "                 prefix_length first_item  \n",
       "suite                                      \n",
       "number_src 0                 0          1  \n",
       "           1                 0          2  \n",
       "           2                 0          3  \n",
       "           3                 0          4  \n",
       "           4                 0          5  \n",
       "...                        ...        ...  \n",
       "           5009             41          3  \n",
       "           5010             41          3  \n",
       "           5011             41          3  \n",
       "           5012             42          3  \n",
       "           5013             41          3  \n",
       "\n",
       "[5014 rows x 6 columns]"
      ]
     },
     "execution_count": 146,
     "metadata": {},
     "output_type": "execute_result"
    }
   ],
   "source": [
    "prediction_dfs = [pd.read_csv(f\"{suite}.predictions.csv\") for suite in suites]\n",
    "prediction_df = pd.concat(prediction_dfs, names=[\"suite\"], keys=suites)\n",
    "prediction_df[\"first_item\"] = prediction_df.used_item_numbers.str.split().str.get(0)\n",
    "prediction_df"
   ]
  },
  {
   "cell_type": "code",
   "execution_count": 147,
   "id": "eb47ebae-dbd0-4a79-a9e2-bcdbef9de790",
   "metadata": {},
   "outputs": [
    {
     "data": {
      "text/html": [
       "<div>\n",
       "<style scoped>\n",
       "    .dataframe tbody tr th:only-of-type {\n",
       "        vertical-align: middle;\n",
       "    }\n",
       "\n",
       "    .dataframe tbody tr th {\n",
       "        vertical-align: top;\n",
       "    }\n",
       "\n",
       "    .dataframe thead th {\n",
       "        text-align: right;\n",
       "    }\n",
       "</style>\n",
       "<table border=\"1\" class=\"dataframe\">\n",
       "  <thead>\n",
       "    <tr style=\"text-align: right;\">\n",
       "      <th></th>\n",
       "      <th></th>\n",
       "      <th>item_number</th>\n",
       "      <th>prediction_0</th>\n",
       "      <th>used_item_numbers</th>\n",
       "      <th>used_conditions</th>\n",
       "      <th>prefix_length</th>\n",
       "      <th>first_item</th>\n",
       "    </tr>\n",
       "    <tr>\n",
       "      <th>suite</th>\n",
       "      <th></th>\n",
       "      <th></th>\n",
       "      <th></th>\n",
       "      <th></th>\n",
       "      <th></th>\n",
       "      <th></th>\n",
       "      <th></th>\n",
       "    </tr>\n",
       "  </thead>\n",
       "  <tbody>\n",
       "    <tr>\n",
       "      <th rowspan=\"2\" valign=\"top\">number_src</th>\n",
       "      <th>18</th>\n",
       "      <td>19</td>\n",
       "      <td>True</td>\n",
       "      <td>19</td>\n",
       "      <td>NaN</td>\n",
       "      <td>0</td>\n",
       "      <td>19</td>\n",
       "    </tr>\n",
       "    <tr>\n",
       "      <th>19</th>\n",
       "      <td>19</td>\n",
       "      <td>True</td>\n",
       "      <td>1 2</td>\n",
       "      <td>match_plural</td>\n",
       "      <td>10</td>\n",
       "      <td>1</td>\n",
       "    </tr>\n",
       "  </tbody>\n",
       "</table>\n",
       "</div>"
      ],
      "text/plain": [
       "               item_number  prediction_0 used_item_numbers used_conditions  \\\n",
       "suite                                                                        \n",
       "number_src 18           19          True                19             NaN   \n",
       "           19           19          True               1 2    match_plural   \n",
       "\n",
       "               prefix_length first_item  \n",
       "suite                                    \n",
       "number_src 18              0         19  \n",
       "           19             10          1  "
      ]
     },
     "execution_count": 147,
     "metadata": {},
     "output_type": "execute_result"
    }
   ],
   "source": [
    "# DEV: NB the item numbers got whacked overlapping at the start here. re-run overnight.\n",
    "prediction_df[prediction_df.item_number == 19]"
   ]
  },
  {
   "cell_type": "code",
   "execution_count": 148,
   "id": "39badb4d-0271-4bd2-b6b8-cefcf1efd447",
   "metadata": {},
   "outputs": [
    {
     "data": {
      "text/plain": [
       "<AxesSubplot:ylabel='Frequency'>"
      ]
     },
     "execution_count": 148,
     "metadata": {},
     "output_type": "execute_result"
    },
    {
     "data": {
      "image/png": "[encoded data removed]",
      "text/plain": [
       "<Figure size 432x288 with 1 Axes>"
      ]
     },
     "metadata": {
      "needs_background": "light"
     },
     "output_type": "display_data"
    }
   ],
   "source": [
    "prediction_df.prefix_length.plot.hist()"
   ]
  },
  {
   "cell_type": "code",
   "execution_count": 149,
   "id": "5e5364ca-37cf-4753-8e6d-ec411c5adf44",
   "metadata": {},
   "outputs": [
    {
     "data": {
      "text/plain": [
       "<AxesSubplot:xlabel='num_prefix_sentences', ylabel='prediction_0'>"
      ]
     },
     "execution_count": 149,
     "metadata": {},
     "output_type": "execute_result"
    },
    {
     "data": {
      "image/png": "[encoded data removed]",
      "text/plain": [
       "<Figure size 432x288 with 1 Axes>"
      ]
     },
     "metadata": {
      "needs_background": "light"
     },
     "output_type": "display_data"
    }
   ],
   "source": [
    "prediction_df[\"num_prefix_sentences\"] = prediction_df.used_conditions.str.count(\" \").fillna(0)\n",
    "sns.lineplot(data=prediction_df, x=\"num_prefix_sentences\", y=\"prediction_0\")"
   ]
  },
  {
   "cell_type": "markdown",
   "id": "ff65ac2b-4054-4161-a01f-28e27665d238",
   "metadata": {},
   "source": [
    "## Margins"
   ]
  },
  {
   "cell_type": "code",
   "execution_count": 150,
   "id": "f3fce7c4-6a43-46be-ac7a-90874711c02a",
   "metadata": {},
   "outputs": [
    {
     "data": {
      "text/html": [
       "<div>\n",
       "<style scoped>\n",
       "    .dataframe tbody tr th:only-of-type {\n",
       "        vertical-align: middle;\n",
       "    }\n",
       "\n",
       "    .dataframe tbody tr th {\n",
       "        vertical-align: top;\n",
       "    }\n",
       "\n",
       "    .dataframe thead th {\n",
       "        text-align: right;\n",
       "    }\n",
       "</style>\n",
       "<table border=\"1\" class=\"dataframe\">\n",
       "  <thead>\n",
       "    <tr style=\"text-align: right;\">\n",
       "      <th></th>\n",
       "      <th></th>\n",
       "      <th>item_number</th>\n",
       "      <th>value</th>\n",
       "      <th>condition</th>\n",
       "      <th>region_number</th>\n",
       "    </tr>\n",
       "    <tr>\n",
       "      <th>suite</th>\n",
       "      <th></th>\n",
       "      <th></th>\n",
       "      <th></th>\n",
       "      <th></th>\n",
       "      <th></th>\n",
       "    </tr>\n",
       "  </thead>\n",
       "  <tbody>\n",
       "    <tr>\n",
       "      <th rowspan=\"11\" valign=\"top\">number_src</th>\n",
       "      <th>0</th>\n",
       "      <td>1</td>\n",
       "      <td>12.441166</td>\n",
       "      <td>match_sing</td>\n",
       "      <td>2</td>\n",
       "    </tr>\n",
       "    <tr>\n",
       "      <th>1</th>\n",
       "      <td>2</td>\n",
       "      <td>14.024705</td>\n",
       "      <td>match_sing</td>\n",
       "      <td>2</td>\n",
       "    </tr>\n",
       "    <tr>\n",
       "      <th>2</th>\n",
       "      <td>3</td>\n",
       "      <td>13.151198</td>\n",
       "      <td>match_sing</td>\n",
       "      <td>2</td>\n",
       "    </tr>\n",
       "    <tr>\n",
       "      <th>3</th>\n",
       "      <td>4</td>\n",
       "      <td>15.575526</td>\n",
       "      <td>match_sing</td>\n",
       "      <td>2</td>\n",
       "    </tr>\n",
       "    <tr>\n",
       "      <th>4</th>\n",
       "      <td>5</td>\n",
       "      <td>13.095509</td>\n",
       "      <td>match_sing</td>\n",
       "      <td>2</td>\n",
       "    </tr>\n",
       "    <tr>\n",
       "      <th>...</th>\n",
       "      <td>...</td>\n",
       "      <td>...</td>\n",
       "      <td>...</td>\n",
       "      <td>...</td>\n",
       "    </tr>\n",
       "    <tr>\n",
       "      <th>180499</th>\n",
       "      <td>8580</td>\n",
       "      <td>0.400255</td>\n",
       "      <td>mismatch_plural</td>\n",
       "      <td>9</td>\n",
       "    </tr>\n",
       "    <tr>\n",
       "      <th>180500</th>\n",
       "      <td>8581</td>\n",
       "      <td>0.324190</td>\n",
       "      <td>mismatch_plural</td>\n",
       "      <td>9</td>\n",
       "    </tr>\n",
       "    <tr>\n",
       "      <th>180501</th>\n",
       "      <td>8582</td>\n",
       "      <td>0.475358</td>\n",
       "      <td>mismatch_plural</td>\n",
       "      <td>9</td>\n",
       "    </tr>\n",
       "    <tr>\n",
       "      <th>180502</th>\n",
       "      <td>8583</td>\n",
       "      <td>0.487269</td>\n",
       "      <td>mismatch_plural</td>\n",
       "      <td>9</td>\n",
       "    </tr>\n",
       "    <tr>\n",
       "      <th>180503</th>\n",
       "      <td>8584</td>\n",
       "      <td>0.307768</td>\n",
       "      <td>mismatch_plural</td>\n",
       "      <td>9</td>\n",
       "    </tr>\n",
       "  </tbody>\n",
       "</table>\n",
       "<p>180504 rows × 4 columns</p>\n",
       "</div>"
      ],
      "text/plain": [
       "                   item_number      value        condition  region_number\n",
       "suite                                                                    \n",
       "number_src 0                 1  12.441166       match_sing              2\n",
       "           1                 2  14.024705       match_sing              2\n",
       "           2                 3  13.151198       match_sing              2\n",
       "           3                 4  15.575526       match_sing              2\n",
       "           4                 5  13.095509       match_sing              2\n",
       "...                        ...        ...              ...            ...\n",
       "           180499         8580   0.400255  mismatch_plural              9\n",
       "           180500         8581   0.324190  mismatch_plural              9\n",
       "           180501         8582   0.475358  mismatch_plural              9\n",
       "           180502         8583   0.487269  mismatch_plural              9\n",
       "           180503         8584   0.307768  mismatch_plural              9\n",
       "\n",
       "[180504 rows x 4 columns]"
      ]
     },
     "execution_count": 150,
     "metadata": {},
     "output_type": "execute_result"
    }
   ],
   "source": [
    "region_dfs = [pd.read_csv(f\"{suite}.regions.csv\") for suite in suites]\n",
    "region_df = pd.concat(region_dfs, names=[\"suite\"], keys=suites)\n",
    "region_df"
   ]
  },
  {
   "cell_type": "code",
   "execution_count": 151,
   "id": "e6ed784c-44ac-4336-81db-572acd1c644d",
   "metadata": {},
   "outputs": [
    {
     "data": {
      "text/plain": [
       "180576"
      ]
     },
     "execution_count": 151,
     "metadata": {},
     "output_type": "execute_result"
    }
   ],
   "source": [
    "# Bring in metadata from predictions df\n",
    "region_df = pd.merge(region_df, prediction_df[[\"item_number\", \"prefix_length\", \"first_item\"]],\n",
    "                     on=\"item_number\")\n",
    "len(region_df)"
   ]
  },
  {
   "cell_type": "code",
   "execution_count": null,
   "id": "7d0a2d3c-ce0d-49d4-8607-709c86ef9118",
   "metadata": {},
   "outputs": [],
   "source": [
    "def compute_margins(item_rows):\n",
    "    item_rows = item_rows.pivot_table(values=\"value\", index=\"condition\", columns=\"region_number\")\n",
    "    return pd.Series({\"sing\": item_rows.loc[\"mismatch_sing\", 7] - item_rows.loc[\"match_sing\", 7],\n",
    "                      \"plur\": item_rows.loc[\"mismatch_plural\", 7] - item_rows.loc[\"match_plural\", 7]})\n",
    "    # return pd.Series({\"sing\": item_rows.loc[(\"mismatch_sing\", 7)] - item_rows.loc[(\"match_sing\", 7)],\n",
    "    #                   \"plur\": item_rows.loc[(\"mismatch_plural\", 7)] - item_rows.loc[(\"match_plural\", 7)]})\n",
    "\n",
    "margin_sizes = region_df.groupby(\"item_number\").apply(compute_margins)"
   ]
  },
  {
   "cell_type": "code",
   "execution_count": null,
   "id": "9bfa50c8-7d35-4767-8680-0dd115e5b9c3",
   "metadata": {},
   "outputs": [],
   "source": [
    "margin_sizes = pd.merge(margin_sizes, prediction_df[[\"item_number\", \"prefix_length\", \"first_item\"]],\n",
    "                        on=\"item_number\")\n",
    "margin_sizes"
   ]
  },
  {
   "cell_type": "code",
   "execution_count": null,
   "id": "ebeb75a8-26f9-4add-975e-96cc1880a2fc",
   "metadata": {},
   "outputs": [],
   "source": [
    "sns.lineplot(data=margin_sizes.melt(id_vars=[\"prefix_length\"], value_vars=[\"sing\", \"plur\"]),\n",
    "             x=\"prefix_length\", y=\"value\", hue=\"variable\")"
   ]
  },
  {
   "cell_type": "code",
   "execution_count": null,
   "id": "f192c1fe-92a9-457e-85d6-c43a345a1cba",
   "metadata": {},
   "outputs": [],
   "source": [
    "margin_sizes[\"prefix_length_bin\"] = pd.cut(margin_sizes.prefix_length, 10).astype(str)\n",
    "sns.lineplot(data=margin_sizes.melt(id_vars=[\"prefix_length_bin\"], value_vars=[\"sing\", \"plur\"]),\n",
    "             x=\"prefix_length_bin\", y=\"value\", hue=\"variable\")\n",
    "plt.xticks(rotation=35)"
   ]
  }
 ],
 "metadata": {
  "kernelspec": {
   "display_name": "Python 3 (ipykernel)",
   "language": "python",
   "name": "python3"
  },
  "language_info": {
   "codemirror_mode": {
    "name": "ipython",
    "version": 3
   },
   "file_extension": ".py",
   "mimetype": "text/x-python",
   "name": "python",
   "nbconvert_exporter": "python",
   "pygments_lexer": "ipython3",
   "version": "3.10.4"
  }
 },
 "nbformat": 4,
 "nbformat_minor": 5
}
